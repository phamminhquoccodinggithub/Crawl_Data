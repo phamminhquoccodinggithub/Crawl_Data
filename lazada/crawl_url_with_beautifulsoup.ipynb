{
 "cells": [
  {
   "cell_type": "code",
   "execution_count": 21,
   "metadata": {},
   "outputs": [],
   "source": [
    "cookies = {\n",
    "    '__wpkreporterwid_': '309c2fdf-c29c-44e4-0a3e-2a6e41926e34', \n",
    "    'hng': 'VN|vi|VND|704', \n",
    "    'hng.sig': 'zdydsNS1SsmgPDnK6hvJok_XUpANfcD7ya93aWHPt94', \n",
    "    't_fv': '1727285973911', \n",
    "    't_uid': '9pUKFIDrVLgthX392mmzGE6kA2g1QlkS', \n",
    "    'lwrid': 'AgGSKkRTuM77ehWZHs%2B6X39uI0MI', \n",
    "    'cna': '1jh7H5M33WACASpw9NHpI9Qm', \n",
    "    'lzd_cid': 'c054feef-71c3-44e0-a9e0-322df1f42ea7', \n",
    "    'pdp_sfo': '1', \n",
    "    'xlly_s': '1', \n",
    "    'EGG_SESS': 'S_Gs1wHo9OvRHCMp98md7G6Z-onSUdwWn3V2-e7hG4iN5aqyt0kzJYzkkZzuDmn20hSl_wWNQCWg7E9-BG8IIKmPFgtLpTQqoVjCrUBSHn28b7By16ivyCZtQN7L2sWXr8_ifqnAl5GZ5kHO6GiUnMRj-iUiEYkY52J78-q8jLc=', \n",
    "    '__itrace_wid': 'b9b71d26-86d2-488a-aa6a-e931f91d9391', \n",
    "    'lzd_sid': '19161e98fd40bd55728ecefa4e925e44', \n",
    "    '_tb_token_': 'e3a9b3369ee1', \n",
    "    'lwrtk': 'AAEEZv0SnY7rkFuUEcYPJDROkDV/cOwNNbvFVM3Fdhdh1pI/Q1snFgU=', \n",
    "    't_sid': 'zhC60jYa7BonIgmxTCda8RbG2Tddyz7d', \n",
    "    'utm_channel': 'NA', \n",
    "    '_m_h5_tk': '650fedce530566c4978349908aff71f8_1727870192076', \n",
    "    '_m_h5_tk_enc': '1fb6f44dc29159b9417c75dd926651dd', \n",
    "    'epssw': '5*mmLAxNusZ8-qgzntmYCOZ9DuaXZdc49sJ49eNU-_NK0_OCCEN5LsAUOC5Iwiv1j2bFUR_JR7GkWYp69DCplis1CRPR5YfvlHQWWsPIAc9lUrrr7ta1rrvSQmrr_mvSAtaAxIBmmmZ2lds-HzmtXj5Q1XnqzGNeE4ApINX81vkFuxCzaajP_n5Z8EFLRDe8mmmmCUFjQnPSEbmmmmWqEeTH-r1rPZ8mQ--8oBArVQjhbQpwa2Aix5pE_waMvvnqQVO-t0GPmMflrNXpQu89VVmmWmHYENhv3hVmJmlPQmmHPz', \n",
    "    'isg': 'BHR0qc6Jrlqaujof9BMrFhhURTLmTZg3ni-Ftg7V-_-9eRXDN1zhx7x6-amhgdCP', \n",
    "    'tfstk': 'gRKtCNXugXcgb-2U0Sghovo7EBkH6npwSCJ7msfglBdpFLPGlI0ZlidyMZaDnG1ADLRAm1xGfR8eZLZMjVS0DGSVcbcoq0vMQiSfvaIan55CItocCOsXQUXoA6loq0vwW5oH5bD4Kdcl6tsfCZ6fdvBABsNXGN6Qd6WVh56bfvpCT66b5ZZbdy6PFSZ6GiMdA6WYcjb3Wsy1MoLVDvVUgzF_4u-dBNCYS6ZAIHZl5_iVOoEA6T7TJd1LcotB8Wdnt1gzKsSG_KW9g0rNfZL669sxDks9_dtfJncnWLI9PISMAxa1NFAGAhT8ho9dX1_pfwFt9_twd3SC-0MJdHRMQHp0hm6HZ69wfinSUGI11MBemXr1MeTXjNS41fIXptsrn3x8tsVlwt4spvU4uN6eBd_7WXIdHJWdZvv3ur7hLo49mvz4uw-cp_Dh1rzV-OC..'\n",
    "}\n",
    "\n",
    "\n",
    "headers = {\n",
    "    'User-Agent': 'Mozilla/5.0 (Windows NT 10.0; Win64; x64) AppleWebKit/537.36 (KHTML, like Gecko) Chrome/129.0.0.0 Safari/537.36',\n",
    "    'Accept': 'application/json, text/plain, */*',\n",
    "    'Accept-Language': 'en-US,en,q=0.9',\n",
    "    'Referer': 'https://www.lazada.vn/',\n",
    "    'x-csrf-token': 'e3a9b3369ee1',\n",
    "}\n",
    "\n",
    "params = {\n",
    "    'ajax': 'true',\n",
    "    'isFirstRequest': 'true',\n",
    "    'q': 'giay',\n",
    "    'page': '1'\n",
    "}"
   ]
  },
  {
   "cell_type": "code",
   "execution_count": 22,
   "metadata": {},
   "outputs": [],
   "source": [
    "from bs4 import BeautifulSoup\n",
    "import requests\n",
    "import json\n",
    "\n",
    "current_url = 'https://www.lazada.vn/catalog/?'"
   ]
  },
  {
   "cell_type": "code",
   "execution_count": null,
   "metadata": {},
   "outputs": [],
   "source": [
    "lst = []\n",
    "for i in range(1, 10):\n",
    "    params['page'] = str(i)\n",
    "    page = requests.get(current_url, headers=headers, cookies=cookies, params=params)\n",
    "    soup = BeautifulSoup(page.text, 'lxml')\n",
    "    res = json.loads(soup.p.text)\n",
    "    for item in res.get('mods').get('listItems'):\n",
    "        lst.append(\n",
    "            {\n",
    "                'url': item['itemUrl'],\n",
    "                'name': item['name'],\n",
    "                'itemId': item['itemId'],\n",
    "                'price': item['price']\n",
    "            }\n",
    "        )\n"
   ]
  },
  {
   "cell_type": "code",
   "execution_count": 20,
   "metadata": {},
   "outputs": [],
   "source": [
    "import pandas as pd\n",
    "df = pd.DataFrame(lst)\n",
    "df.to_csv('lazada_item_url.csv', index=False)"
   ]
  }
 ],
 "metadata": {
  "kernelspec": {
   "display_name": "venv",
   "language": "python",
   "name": "python3"
  },
  "language_info": {
   "codemirror_mode": {
    "name": "ipython",
    "version": 3
   },
   "file_extension": ".py",
   "mimetype": "text/x-python",
   "name": "python",
   "nbconvert_exporter": "python",
   "pygments_lexer": "ipython3",
   "version": "3.10.12"
  }
 },
 "nbformat": 4,
 "nbformat_minor": 2
}
